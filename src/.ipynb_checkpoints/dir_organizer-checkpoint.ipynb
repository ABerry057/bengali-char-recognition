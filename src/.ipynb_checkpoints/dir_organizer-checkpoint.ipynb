{
 "cells": [
  {
   "cell_type": "code",
   "execution_count": 1,
   "metadata": {},
   "outputs": [],
   "source": [
    "import pandas as pd\n",
    "import pyarrow.parquet as pq\n",
    "import os\n",
    "from tqdm.auto import tqdm\n",
    "from pathlib import Path\n",
    "import shutil\n",
    "import cv2 "
   ]
  },
  {
   "cell_type": "code",
   "execution_count": 5,
   "metadata": {},
   "outputs": [],
   "source": [
    "parent_dir = os.path.dirname(os.getcwd())\n",
    "base_dir = f'{parent_dir}/data/images'\n",
    "base_dir_path = Path(base_dir)\n",
    "# if path already exists, delte and start over\n",
    "if base_dir_path.exists():\n",
    "  shutil.rmtree(base_dir)\n",
    "# Now create the directory\n",
    "base_dir_path.mkdir(parents = True)"
   ]
  },
  {
   "cell_type": "code",
   "execution_count": null,
   "metadata": {},
   "outputs": [],
   "source": [
    "train_df = pd.read_csv(parent_directory+'/data/train.csv')\n",
    "train_label = pd.read_csv(parent_directory+'/data/train.csv')[:50210] # first 50_210 labels correspond to pq0\n",
    "train_images_0 = pq.read_table(parent_directory+'/data/train_image_data_0.parquet').to_pandas()"
   ]
  },
  {
   "cell_type": "code",
   "execution_count": null,
   "metadata": {},
   "outputs": [],
   "source": [
    "# loop through grapheme IDs, make folder for each ID\n",
    "def gen_split_dirs(images, labels, split):\n",
    "    \"\"\"\n",
    "    Generates directories for grapheme IDs for a given split of the data set, i.e training, validation, test.\n",
    "    \"\"\"\n",
    "    "
   ]
  },
  {
   "cell_type": "code",
   "execution_count": 6,
   "metadata": {},
   "outputs": [],
   "source": []
  },
  {
   "cell_type": "code",
   "execution_count": null,
   "metadata": {},
   "outputs": [],
   "source": []
  }
 ],
 "metadata": {
  "kernelspec": {
   "display_name": "Python 3",
   "language": "python",
   "name": "python3"
  },
  "language_info": {
   "codemirror_mode": {
    "name": "ipython",
    "version": 3
   },
   "file_extension": ".py",
   "mimetype": "text/x-python",
   "name": "python",
   "nbconvert_exporter": "python",
   "pygments_lexer": "ipython3",
   "version": "3.6.10"
  }
 },
 "nbformat": 4,
 "nbformat_minor": 2
}
