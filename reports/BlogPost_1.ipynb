{
 "cells": [
  {
   "cell_type": "markdown",
   "metadata": {},
   "source": [
    "# Blog Post 1"
   ]
  },
  {
   "cell_type": "markdown",
   "metadata": {},
   "source": [
    "##### Alex Berry, Jason Chan, Hyunjoon Lee\n",
    "\n",
    "Brown University Data Science Initiative\\\n",
    "DATA 2040: Deep Learning\\\n",
    "February 18th, 2020"
   ]
  },
  {
   "cell_type": "markdown",
   "metadata": {},
   "source": [
    "In this blog post, we post the exploratory data analysis of Bengali AI project."
   ]
  },
  {
   "cell_type": "markdown",
   "metadata": {},
   "source": [
    "## Exploratory Data Analysis (EDA) in the Training Set"
   ]
  },
  {
   "cell_type": "markdown",
   "metadata": {},
   "source": [
    "There are 2 types of training data: labels and images. For each id, we have an image data in **train_image_data.parquet** and label data in **train.csv**. There are total of 200840 samples, where each each image of Bengali consists of 32330 pixels (approx. 137 $\\times$ 236), and 3 labels: **grapheme_root**, **vowel_diacritic**, and **consonant_diacritic**. We downloaded *kalpurush font ** to make sure the graphemes are proper"
   ]
  },
  {
   "cell_type": "markdown",
   "metadata": {},
   "source": [
    "```python\n",
    "train_df = pd.read_csv('train.csv')\n",
    "train_df.head()\n",
    "```\n",
    "![alt text](../figures/df_head.png)\n"
   ]
  },
  {
   "cell_type": "markdown",
   "metadata": {},
   "source": [
    "### Unique Values"
   ]
  },
  {
   "cell_type": "markdown",
   "metadata": {},
   "source": [
    "We explored the number of unique grapheme roots, vowel diacritic, and consonant diacritic.\n",
    "\n",
    "```python\n",
    "# number of unique values\n",
    "print(f'Number of unique grapheme roots: {train_df[\"grapheme_root\"].nunique()}')\n",
    "print(f'Number of unique vowel diacritic: {train_df[\"vowel_diacritic\"].nunique()}')\n",
    "print(f'Number of unique consonant diacritic: {train_df[\"consonant_diacritic\"].nunique()}')\n",
    "```\n",
    "Number of unique grapheme roots: 168 \\\n",
    "Number of unique vowel diacritic: 11 \\\n",
    "Number of unique consonant diacritic: 7"
   ]
  },
  {
   "cell_type": "markdown",
   "metadata": {},
   "source": [
    "###  Most/Least Common Characters for each Component"
   ]
  },
  {
   "cell_type": "markdown",
   "metadata": {},
   "source": [
    "#### 1. Top 10 Grapheme Roots"
   ]
  },
  {
   "cell_type": "markdown",
   "metadata": {},
   "source": [
    "We looked at the graphemes with top 10 most common roots. Their grapheme root IDs were [72, 64, 13, 107, 23, 96, 113, 147, 133, 115]."
   ]
  },
  {
   "cell_type": "markdown",
   "metadata": {},
   "source": [
    "```python\n",
    "def get_n(df, field, n, ascend=False):\n",
    "  return pd.DataFrame(df[field].value_counts(ascending=ascend))[:n].rename_axis('id').reset_index()\n",
    "\n",
    "get_n(train_df, \"grapheme_root\", 10)\n",
    "```\n",
    "![alt text](/figures/top10_roots.png)"
   ]
  },
  {
   "cell_type": "markdown",
   "metadata": {},
   "source": [
    "```python\n",
    "# top 10 most common grapheme roots\n",
    "top_10_roots = get_n(train_df, 'grapheme_root', 10)\n",
    "sorted_indices = top_10_roots.sort_values(by=\"grapheme_root\", ascending=False)[\"id\"].tolist()\n",
    "# would have prefered to use \"component\" instead of \"index\", but unicode isn't supported in the plot\n",
    "sns.barplot(x=\"id\", y=\"grapheme_root\", data=top_10_roots, order = sorted_indices).set_title(\"10 Most Common Roots by ID\")\n",
    "```\n",
    "![alt text](top10_roots_bar.png)"
   ]
  },
  {
   "cell_type": "markdown",
   "metadata": {},
   "source": [
    "The following figure is 5 samples of grapheme for each IDs of 10 most commont roots.\n",
    "\n",
    "```python\n",
    "def make_contact_sheet(images, labels, ex_labels, num_samples):\n",
    "    '''\n",
    "      Prints a grid of images with labels of type ex_labels. \n",
    "      Each column corresponds to a different ex_label and there are nrows total.\n",
    "      Inputs:\n",
    "        - images: A list of images to sample from\n",
    "        - labels: A list where the ith element corresponds to the label of image i in images\n",
    "        - ex_labels: An array specifying the labels we wish to sample \n",
    "        - num_samples: A nonnegtive integer specifying how many samples we want for each label\n",
    "    '''\n",
    "    indices = [[0] * len(ex_labels) for i in range(num_samples)]\n",
    "    samples = [[0] * len(ex_labels) for i in range(num_samples)]\n",
    "    \n",
    "    for i in range(len(ex_labels)):\n",
    "        for j in range(num_samples):\n",
    "            indices[j][i] = np.where(labels == ex_labels[i])[0][j]\n",
    "            \n",
    "    for i in range(len(ex_labels)):\n",
    "        for j in range(num_samples):\n",
    "            samples[j][i] = images.iloc[indices[j][i],1:].to_numpy().astype(int).reshape(137,236)\n",
    "            \n",
    "    f, axs = plt.subplots(num_samples, len(ex_labels), sharey = True, figsize = (20, 10))\n",
    "    \n",
    "    for i in range(len(samples)):\n",
    "        for j in range(len(samples[0])):\n",
    "            axs[i, j].imshow(samples[i][j])\n",
    "            axs[i, j].axis(\"off\")\n",
    "            \n",
    "top10_root_labels = [72, 64, 13, 107, 23, 96, 113, 147, 133, 115]\n",
    "make_contact_sheet(train_images_0, train_label['grapheme_root'], top10_root_labels, 5)\n",
    "```"
   ]
  },
  {
   "cell_type": "markdown",
   "metadata": {},
   "source": [
    "![alt text](top_grapheme_roots.png)"
   ]
  },
  {
   "cell_type": "markdown",
   "metadata": {},
   "source": [
    "#### 2. Bottom 10 Grapheme Roots"
   ]
  },
  {
   "cell_type": "markdown",
   "metadata": {},
   "source": [
    "Then, we looked at the graphemes with bottom 10 least common roots. Their grapheme root IDs were [63, 0, 12, 1, 130, 45, 158, 102, 33, 73]."
   ]
  },
  {
   "cell_type": "markdown",
   "metadata": {},
   "source": [
    "![alt text](bottom10_roots_bar.png)"
   ]
  },
  {
   "cell_type": "markdown",
   "metadata": {},
   "source": [
    "The following figure is 5 samples of grapheme for each IDs of 10 least commont roots."
   ]
  },
  {
   "cell_type": "markdown",
   "metadata": {},
   "source": [
    "![alt text](bottom_grapheme_roots.png)"
   ]
  },
  {
   "cell_type": "markdown",
   "metadata": {},
   "source": [
    "#### 3. Top 5 Vowels"
   ]
  },
  {
   "cell_type": "markdown",
   "metadata": {},
   "source": [
    "After the grapheme roots, we looked at top 5 most common vowels. Their vowel diacritic IDs were [0, 1, 7, 2, 4]."
   ]
  },
  {
   "cell_type": "markdown",
   "metadata": {},
   "source": [
    "![alt text](top5_vowels_bar.png)"
   ]
  },
  {
   "cell_type": "markdown",
   "metadata": {},
   "source": [
    "The following figure is 5 samples of grapheme for each IDs of 5 most commont vowels."
   ]
  },
  {
   "cell_type": "markdown",
   "metadata": {},
   "source": [
    "![alt text](vowels.png)"
   ]
  },
  {
   "cell_type": "markdown",
   "metadata": {},
   "source": [
    "#### 4. All 7 Consonants"
   ]
  },
  {
   "cell_type": "markdown",
   "metadata": {},
   "source": [
    "After the grapheme roots, we looked at all 7 consonants. Their vowel diacritic IDs were [0, 2, 5, 4, 1, 6, 3]."
   ]
  },
  {
   "cell_type": "markdown",
   "metadata": {},
   "source": [
    "![alt text](top5_consonants_bar.png)"
   ]
  },
  {
   "cell_type": "markdown",
   "metadata": {},
   "source": [
    "The following figure is 5 samples of grapheme for each IDs of 7 consonantss."
   ]
  },
  {
   "cell_type": "markdown",
   "metadata": {},
   "source": [
    "![alt text](consonant.png)"
   ]
  },
  {
   "cell_type": "markdown",
   "metadata": {},
   "source": [
    "#### 5. Top 10 Combinations"
   ]
  },
  {
   "cell_type": "markdown",
   "metadata": {},
   "source": [
    "Lastly, we looked at the graphemes in which are the 10 most common combinations of **grapheme_root**, **vowel_diacritic**, and **consonant_diacritic**."
   ]
  },
  {
   "cell_type": "markdown",
   "metadata": {},
   "source": [
    "**Quantifying the Most Common Combinations**\n",
    "\n",
    "```python\n",
    "combo_tally = coll.Counter()\n",
    "for _, row in tqdm(train_df.iterrows()):\n",
    "  combo = (row['grapheme_root'], row['vowel_diacritic'], row['consonant_diacritic']) #change strings to tuples\n",
    "  combo_tally[combo] += 1\n",
    "combo_tally.most_common(10)\n",
    "\n",
    "output:\n",
    "[((64, 7, 2), 303),\n",
    " ((72, 0, 2), 297),\n",
    " ((64, 3, 2), 289),\n",
    " ((167, 7, 0), 283),\n",
    " ((74, 1, 0), 178),\n",
    " ((29, 0, 0), 178),\n",
    " ((48, 4, 0), 177),\n",
    " ((107, 7, 0), 177),\n",
    " ((103, 1, 0), 177),\n",
    " ((96, 9, 5), 177)]\n",
    "```"
   ]
  },
  {
   "cell_type": "markdown",
   "metadata": {},
   "source": [
    "![alt text](top10_combos.png)"
   ]
  },
  {
   "cell_type": "markdown",
   "metadata": {},
   "source": [
    "The following figure is a sample for each most common combination of componenets."
   ]
  },
  {
   "cell_type": "markdown",
   "metadata": {},
   "source": [
    "![alt text](combinations.png)"
   ]
  },
  {
   "cell_type": "markdown",
   "metadata": {},
   "source": [
    "### Conclusion of Component EDA\n",
    "\n",
    "In the training set, the most common root graphemes are 72, 64, and 13 and the last common are 63, 0, and 12. The most common vowel diacritics are 0, 1, and 7. The most common consonant diacritics are 0, 2, and 5. The most common combinations of components are mostly just combinations of the most common components, which is expected. The most common combinations are 64-7-2, 72-0-2, and 64-3-2."
   ]
  }
 ],
 "metadata": {
  "kernelspec": {
   "display_name": "Python 3",
   "language": "python",
   "name": "python3"
  },
  "language_info": {
   "codemirror_mode": {
    "name": "ipython",
    "version": 3
   },
   "file_extension": ".py",
   "mimetype": "text/x-python",
   "name": "python",
   "nbconvert_exporter": "python",
   "pygments_lexer": "ipython3",
   "version": "3.7.4"
  }
 },
 "nbformat": 4,
 "nbformat_minor": 2
}
