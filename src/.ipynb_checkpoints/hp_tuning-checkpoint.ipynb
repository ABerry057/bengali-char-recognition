{
 "cells": [
  {
   "cell_type": "code",
   "execution_count": 1,
   "metadata": {},
   "outputs": [
    {
     "name": "stderr",
     "output_type": "stream",
     "text": [
      "Using TensorFlow backend.\n"
     ]
    }
   ],
   "source": [
    "# This Python 3 environment comes with many helpful analytics libraries installed\n",
    "# It is defined by the kaggle/python docker image: https://github.com/kaggle/docker-python\n",
    "# For example, here's several helpful packages to load in \n",
    "\n",
    "import numpy as np # linear algebra\n",
    "import pandas as pd # data processing, CSV file I/O (e.g. pd.read_csv)\n",
    "from tqdm.auto import tqdm\n",
    "from glob import glob\n",
    "import time, gc\n",
    "import cv2\n",
    "import pyarrow.parquet as pq\n",
    "import pyarrow as pa\n",
    "\n",
    "from tensorflow import keras\n",
    "import tensorflow as tf\n",
    "from keras.preprocessing.image import ImageDataGenerator\n",
    "from keras.models import Model\n",
    "from keras.models import clone_model\n",
    "from keras.layers import Dense,Conv2D,Flatten,MaxPool2D,Dropout,BatchNormalization, Input\n",
    "from keras.optimizers import Adam\n",
    "from keras.callbacks import ReduceLROnPlateau\n",
    "from sklearn.model_selection import train_test_split\n",
    "from sklearn.metrics import confusion_matrix\n",
    "import os\n",
    "import json"
   ]
  },
  {
   "cell_type": "code",
   "execution_count": 2,
   "metadata": {},
   "outputs": [],
   "source": [
    "parent_directory = os.path.dirname(os.getcwd())\n",
    "\n",
    "def get_dummies(df):\n",
    "    cols = []\n",
    "    for col in df:\n",
    "        cols.append(pd.get_dummies(df[col].astype(str)))\n",
    "    return pd.concat(cols, axis=1)"
   ]
  },
  {
   "cell_type": "code",
   "execution_count": 4,
   "metadata": {},
   "outputs": [],
   "source": [
    "# IMG_SIZE=64\n",
    "global IMG_X_SIZE\n",
    "IMG_X_SIZE = 87\n",
    "global IMG_Y_SIZE\n",
    "IMG_Y_SIZE = 106\n",
    "global N_CHANNELS\n",
    "N_CHANNELS=1"
   ]
  },
  {
   "cell_type": "code",
   "execution_count": 3,
   "metadata": {},
   "outputs": [
    {
     "ename": "NameError",
     "evalue": "name 'IMG_X_SIZE' is not defined",
     "output_type": "error",
     "traceback": [
      "\u001b[0;31m---------------------------------------------------------------------------\u001b[0m",
      "\u001b[0;31mNameError\u001b[0m                                 Traceback (most recent call last)",
      "\u001b[0;32m<ipython-input-3-4394a9425d76>\u001b[0m in \u001b[0;36m<module>\u001b[0;34m\u001b[0m\n\u001b[1;32m     12\u001b[0m \u001b[0;32mdel\u001b[0m \u001b[0mproc_img_3\u001b[0m\u001b[0;34m\u001b[0m\u001b[0m\n\u001b[1;32m     13\u001b[0m \u001b[0;31m# CNN takes images in shape `(batch_size, h, w, channels)`, so reshape the images\u001b[0m\u001b[0;34m\u001b[0m\u001b[0;34m\u001b[0m\u001b[0m\n\u001b[0;32m---> 14\u001b[0;31m \u001b[0mtrain_images\u001b[0m \u001b[0;34m=\u001b[0m \u001b[0mtrain_images\u001b[0m\u001b[0;34m.\u001b[0m\u001b[0mvalues\u001b[0m\u001b[0;34m.\u001b[0m\u001b[0mreshape\u001b[0m\u001b[0;34m(\u001b[0m\u001b[0;34m-\u001b[0m\u001b[0;36m1\u001b[0m\u001b[0;34m,\u001b[0m \u001b[0mIMG_X_SIZE\u001b[0m\u001b[0;34m,\u001b[0m \u001b[0mIMG_Y_SIZE\u001b[0m\u001b[0;34m,\u001b[0m \u001b[0mN_CHANNELS\u001b[0m\u001b[0;34m)\u001b[0m\u001b[0;34m\u001b[0m\u001b[0m\n\u001b[0m",
      "\u001b[0;31mNameError\u001b[0m: name 'IMG_X_SIZE' is not defined"
     ]
    }
   ],
   "source": [
    "# Preparing the preprocessed data for fitting in the model (takes about 15 mins to run)\n",
    "# this is for GCP or local\n",
    "proc_img_0 = pq.read_table(parent_directory+\"/data/preprocessed/preprop_0.parquet\").to_pandas()\n",
    "proc_img_1 = pq.read_table(parent_directory+\"/data/preprocessed/preprop_1.parquet\").to_pandas()\n",
    "proc_img_2 = pq.read_table(parent_directory+\"/data/preprocessed/preprop_2.parquet\").to_pandas()\n",
    "proc_img_3 = pq.read_table(parent_directory+\"/data/preprocessed/preprop_3.parquet\").to_pandas()\n",
    "train_images = pd.concat([proc_img_0, proc_img_1, proc_img_2, proc_img_3])\n",
    "train_images.drop(columns=['image_id'],inplace=True)\n",
    "del proc_img_0\n",
    "del proc_img_1\n",
    "del proc_img_2\n",
    "del proc_img_3"
   ]
  },
  {
   "cell_type": "code",
   "execution_count": 5,
   "metadata": {},
   "outputs": [],
   "source": [
    "# CNN takes images in shape `(batch_size, h, w, channels)`, so reshape the images\n",
    "train_images = train_images.values.reshape(-1, IMG_X_SIZE, IMG_Y_SIZE, N_CHANNELS)"
   ]
  },
  {
   "cell_type": "code",
   "execution_count": 7,
   "metadata": {},
   "outputs": [],
   "source": [
    "train_labels = pd.read_csv(parent_directory+\"/data/train.csv\")\n",
    "Y_train_root = pd.get_dummies(train_labels['grapheme_root']).values\n",
    "Y_train_vowel = pd.get_dummies(train_labels['vowel_diacritic']).values\n",
    "Y_train_consonant = pd.get_dummies(train_labels['consonant_diacritic']).values\n",
    "del train_labels\n",
    "# print(f'Training images: {train_images.shape}')\n",
    "# print(f'Training labels root: {Y_train_root.shape}')\n",
    "# print(f'Training labels vowel: {Y_train_vowel.shape}')\n",
    "# print(f'Training labels consonants: {Y_train_consonant.shape}')"
   ]
  },
  {
   "cell_type": "code",
   "execution_count": 8,
   "metadata": {},
   "outputs": [],
   "source": [
    "# below this should take around 5 minutes\n",
    "x_train, x_test, y_train_root, y_test_root, y_train_vowel, y_test_vowel, y_train_consonant, y_test_consonant \\\n",
    "    = train_test_split(train_images, Y_train_root, Y_train_vowel, Y_train_consonant, test_size=0.3, random_state=666)\n",
    "del train_images\n",
    "x_val, x_test, y_val_root, y_test_root, y_val_vowel, y_test_vowel, y_val_consonant, y_test_consonant \\\n",
    "    = train_test_split(x_test, y_test_root, y_test_vowel, y_test_consonant, test_size=0.33, random_state=666)\n",
    "# print(f'x_train size: {x_train.shape}')\n",
    "# print(f'x_val size: {x_val.shape}')\n",
    "# print(f'x_test size: {x_test.shape}')"
   ]
  },
  {
   "cell_type": "code",
   "execution_count": 10,
   "metadata": {},
   "outputs": [],
   "source": [
    "class MultiOutputDataGenerator(keras.preprocessing.image.ImageDataGenerator):\n",
    "\n",
    "    def flow(self,\n",
    "             x,\n",
    "             y=None,\n",
    "             batch_size=32,\n",
    "             shuffle=True,\n",
    "             sample_weight=None,\n",
    "             seed=None,\n",
    "             save_to_dir=None,\n",
    "             save_prefix='',\n",
    "             save_format='png',\n",
    "             subset=None):\n",
    "\n",
    "        targets = None\n",
    "        target_lengths = {}\n",
    "        ordered_outputs = []\n",
    "        for output, target in y.items():\n",
    "            if targets is None:\n",
    "                targets = target\n",
    "            else:\n",
    "                targets = np.concatenate((targets, target), axis=1)\n",
    "            target_lengths[output] = target.shape[1]\n",
    "            ordered_outputs.append(output)\n",
    "\n",
    "\n",
    "        for flowx, flowy in super().flow(x, targets, batch_size=batch_size,\n",
    "                                         shuffle=shuffle):\n",
    "            target_dict = {}\n",
    "            i = 0\n",
    "            for output in ordered_outputs:\n",
    "                target_length = target_lengths[output]\n",
    "                target_dict[output] = flowy[:, i: i + target_length]\n",
    "                i += target_length\n",
    "\n",
    "            yield flowx, target_dict"
   ]
  },
  {
   "cell_type": "code",
   "execution_count": 11,
   "metadata": {},
   "outputs": [],
   "source": [
    "# Preparing the data generator (should take two minutes)\n",
    "# Data augmentation for creating more training data\n",
    "datagen = MultiOutputDataGenerator(\n",
    "    featurewise_center=False,  # set input mean to 0 over the dataset\n",
    "    samplewise_center=False,  # set each sample mean to 0\n",
    "    featurewise_std_normalization=False,  # divide inputs by std of the dataset\n",
    "    samplewise_std_normalization=False,  # divide each input by its std\n",
    "    zca_whitening=False,  # apply ZCA whitening\n",
    "    rotation_range=8,  # randomly rotate images in the range (degrees, 0 to 180)\n",
    "    zoom_range = 0.15, # Randomly zoom image \n",
    "    width_shift_range=0.15,  # randomly shift images horizontally (fraction of total width)\n",
    "    height_shift_range=0.15,  # randomly shift images vertically (fraction of total height)\n",
    "    horizontal_flip=False,  # randomly flip images\n",
    "    vertical_flip=False)  # randomly flip images\n",
    "# This will just calculate parameters required to augment the given data. This won't perform any augmentations\n",
    "datagen.fit(x_train)"
   ]
  },
  {
   "cell_type": "code",
   "execution_count": 12,
   "metadata": {},
   "outputs": [],
   "source": [
    "batch_size = 256\n",
    "epochs = 10"
   ]
  },
  {
   "cell_type": "code",
   "execution_count": null,
   "metadata": {},
   "outputs": [],
   "source": [
    "# need to edit these when we run the actual model and not doing hyperparameter tuning\n",
    "# initial_learning_rate = 0.01\n",
    "# decay_steps = 5 # this would be more like 10 or 20, since we'll be running more epochs\n",
    "# decay_rate = 0.1\n",
    "# learning_rate_exp_root = tf.keras.optimizers.schedules.ExponentialDecay(\n",
    "#         initial_learning_rate = initial_learning_rate, decay_steps = decay_steps, decay_rate=decay_rate, name=\"lr_expD_root\")\n",
    "# learning_rate_exp_vowel = tf.keras.optimizers.schedules.ExponentialDecay(\n",
    "#         initial_learning_rate = initial_learning_rate, decay_steps = decay_steps, decay_rate=decay_rate, name=\"lr_expD_vowel\")\n",
    "# learning_rate_exp_consonant = tf.keras.optimizers.schedules.ExponentialDecay(\n",
    "#         initial_learning_rate = initial_learning_rate, decay_steps = decay_steps, decay_rate=decay_rate, name=\"lr_expD_consonant\")\n",
    "# LR_scheduler_exp_root = tf.keras.callbacks.LearningRateScheduler(learning_rate_exp_root)\n",
    "# LR_scheduler_exp_vowel = tf.keras.callbacks.LearningRateScheduler(learning_rate_exp_vowel)\n",
    "# LR_scheduler_exp_consonant = tf.keras.callbacks.LearningRateScheduler(learning_rate_exp_consonant)\n",
    "\n",
    "def exponential_decay_fn(epoch):\n",
    "    return 0.1 * 0.1 **(epoch / 3) # 1st var is initial lr, 2nd is decay_rate, 3rd is decay_steps, i think\n",
    "lr_exp_root = keras.callbacks.LearningRateScheduler(exponential_decay_fn)\n",
    "lr_exp_vowel = keras.callbacks.LearningRateScheduler(exponential_decay_fn)\n",
    "lr_exp_consonant = keras.callbacks.LearningRateScheduler(exponential_decay_fn)\n",
    "\n",
    "learning_rate_reduction_root = ReduceLROnPlateau(monitor='dense_3_accuracy', \n",
    "                                            patience=3, \n",
    "                                            verbose=1,\n",
    "                                            factor=0.5, \n",
    "                                            min_lr=0.00001)\n",
    "learning_rate_reduction_vowel = ReduceLROnPlateau(monitor='dense_4_accuracy', \n",
    "                                            patience=3, \n",
    "                                            verbose=1,\n",
    "                                            factor=0.5, \n",
    "                                            min_lr=0.00001)\n",
    "learning_rate_reduction_consonant = ReduceLROnPlateau(monitor='dense_5_accuracy', \n",
    "                                            patience=3, \n",
    "                                            verbose=1,\n",
    "                                            factor=0.5, \n",
    "                                            min_lr=0.00001)"
   ]
  },
  {
   "cell_type": "code",
   "execution_count": 31,
   "metadata": {},
   "outputs": [],
   "source": [
    "def build_model(activation, dropout_prob):\n",
    "    inputs = Input(shape = (IMG_X_SIZE, IMG_Y_SIZE, N_CHANNELS))\n",
    "    # first convolutional layer\n",
    "    model = Conv2D(filters=32, kernel_size=(3, 3), padding='SAME', activation=activation, input_shape=(IMG_X_SIZE, IMG_Y_SIZE, N_CHANNELS))(inputs)\n",
    "    model = Conv2D(filters=32, kernel_size=(3, 3), padding='SAME', activation=activation)(model)\n",
    "    model = Conv2D(filters=32, kernel_size=(3, 3), padding='SAME', activation=activation)(model)\n",
    "    model = Conv2D(filters=32, kernel_size=(3, 3), padding='SAME', activation=activation)(model)\n",
    "    model = BatchNormalization(momentum=0.15)(model)\n",
    "    model = MaxPool2D(pool_size=(2, 2))(model)\n",
    "    model = Conv2D(filters=32, kernel_size=(5, 5), padding='SAME', activation=activation)(model)\n",
    "    model = Dropout(rate=dropout_prob)(model)\n",
    "    # 2nd CL\n",
    "    model = Conv2D(filters=64, kernel_size=(3, 3), padding='SAME', activation=activation)(model)\n",
    "    model = Conv2D(filters=64, kernel_size=(3, 3), padding='SAME', activation=activation)(model)\n",
    "    model = Conv2D(filters=64, kernel_size=(3, 3), padding='SAME', activation=activation)(model)\n",
    "    model = Conv2D(filters=64, kernel_size=(3, 3), padding='SAME', activation=activation)(model)\n",
    "    model = BatchNormalization(momentum=0.15)(model)\n",
    "    model = MaxPool2D(pool_size=(2, 2))(model)\n",
    "    model = Conv2D(filters=64, kernel_size=(5, 5), padding='SAME', activation=activation)(model)\n",
    "    model = BatchNormalization(momentum=0.15)(model)\n",
    "    model = Dropout(rate=dropout_prob)(model)\n",
    "    # 3rd CL\n",
    "    model = Conv2D(filters=128, kernel_size=(3, 3), padding='SAME', activation=activation)(model)\n",
    "    model = Conv2D(filters=128, kernel_size=(3, 3), padding='SAME', activation=activation)(model)\n",
    "    model = Conv2D(filters=128, kernel_size=(3, 3), padding='SAME', activation=activation)(model)\n",
    "    model = Conv2D(filters=128, kernel_size=(3, 3), padding='SAME', activation=activation)(model)\n",
    "    model = BatchNormalization(momentum=0.15)(model)\n",
    "    model = MaxPool2D(pool_size=(2, 2))(model)\n",
    "    model = Conv2D(filters=128, kernel_size=(5, 5), padding='SAME', activation=activation)(model)\n",
    "    model = BatchNormalization(momentum=0.15)(model)\n",
    "    model = Dropout(rate=dropout_prob)(model)\n",
    "    # 4th CL\n",
    "    model = Conv2D(filters=256, kernel_size=(3, 3), padding='SAME', activation=activation)(model)\n",
    "    model = Conv2D(filters=256, kernel_size=(3, 3), padding='SAME', activation=activation)(model)\n",
    "    model = Conv2D(filters=256, kernel_size=(3, 3), padding='SAME', activation=activation)(model)\n",
    "    model = Conv2D(filters=256, kernel_size=(3, 3), padding='SAME', activation=activation)(model)\n",
    "    model = BatchNormalization(momentum=0.15)(model)\n",
    "    model = MaxPool2D(pool_size=(2, 2))(model)\n",
    "    model = Conv2D(filters=256, kernel_size=(5, 5), padding='SAME', activation=activation)(model)\n",
    "    model = BatchNormalization(momentum=0.15)(model)\n",
    "    model = Dropout(rate=dropout_prob)(model)\n",
    "    # dense layer\n",
    "    model = Flatten()(model)\n",
    "    model = Dense(1024, activation=activation)(model)\n",
    "    model = Dropout(rate=dropout_prob)(model)\n",
    "    dense = Dense(512, activation=activation)(model)\n",
    "    # softmax layer\n",
    "    head_root = Dense(168, activation = 'softmax', name = \"dense_root\")(dense)\n",
    "    head_vowel = Dense(11, activation = 'softmax', name = \"dense_vowel\")(dense)\n",
    "    head_consonant = Dense(7, activation = 'softmax', name = \"dense_consonant\")(dense)\n",
    "    # output\n",
    "    model = Model(inputs=inputs, outputs=[head_root, head_vowel, head_consonant])\n",
    "    return model"
   ]
  },
  {
   "cell_type": "code",
   "execution_count": 19,
   "metadata": {},
   "outputs": [],
   "source": [
    "activations = [\"tanh\", \"relu\"]\n",
    "dropout_probs = [0.2, 0.4]\n",
    "optimizers = ['adam', 'nadam']\n",
    "lr_schedulers = ['exp', 'power']"
   ]
  },
  {
   "cell_type": "code",
   "execution_count": 34,
   "metadata": {},
   "outputs": [
    {
     "name": "stdout",
     "output_type": "stream",
     "text": [
      "==========================================================================================\n",
      "Training model_1:\n",
      "\t Activation: tanh\n",
      "\t Dropout Probability: 0.2\n",
      "\t Optimizer: adam\n",
      "\t LR Scheduler: power\n",
      "Epoch 1/10\n",
      "549/549 [==============================] - 240s 437ms/step - loss: 6.4662 - dense_root_loss: 4.3553 - dense_vowel_loss: 1.2127 - dense_consonant_loss: 0.8982 - dense_root_accuracy: 0.0600 - dense_vowel_accuracy: 0.5848 - dense_consonant_accuracy: 0.6919 - val_loss: 4.4129 - val_dense_root_loss: 3.4033 - val_dense_vowel_loss: 0.5172 - val_dense_consonant_loss: 0.4919 - val_dense_root_accuracy: 0.1602 - val_dense_vowel_accuracy: 0.8358 - val_dense_consonant_accuracy: 0.8253\n",
      "Epoch 2/10\n",
      "  1/549 [..............................] - ETA: 48s - loss: 4.8141 - dense_root_loss: 3.4439 - dense_vowel_loss: 0.7633 - dense_consonant_loss: 0.6070 - dense_root_accuracy: 0.0455 - dense_vowel_accuracy: 0.7273 - dense_consonant_accuracy: 0.8182"
     ]
    },
    {
     "name": "stderr",
     "output_type": "stream",
     "text": [
      "/usr/local/lib/python3.5/dist-packages/keras/callbacks/callbacks.py:1042: RuntimeWarning: Reduce LR on plateau conditioned on metric `dense_3_accuracy` which is not available. Available metrics are: dense_vowel_loss,dense_consonant_loss,lr,dense_vowel_accuracy,dense_consonant_accuracy,val_dense_consonant_accuracy,val_dense_vowel_loss,val_loss,dense_root_loss,dense_root_accuracy,val_dense_root_accuracy,val_dense_vowel_accuracy,loss,val_dense_consonant_loss,val_dense_root_loss\n",
      "  (self.monitor, ','.join(list(logs.keys()))), RuntimeWarning\n",
      "/usr/local/lib/python3.5/dist-packages/keras/callbacks/callbacks.py:1042: RuntimeWarning: Reduce LR on plateau conditioned on metric `dense_4_accuracy` which is not available. Available metrics are: dense_vowel_loss,dense_consonant_loss,lr,dense_vowel_accuracy,dense_consonant_accuracy,val_dense_consonant_accuracy,val_dense_vowel_loss,val_loss,dense_root_loss,dense_root_accuracy,val_dense_root_accuracy,val_dense_vowel_accuracy,loss,val_dense_consonant_loss,val_dense_root_loss\n",
      "  (self.monitor, ','.join(list(logs.keys()))), RuntimeWarning\n",
      "/usr/local/lib/python3.5/dist-packages/keras/callbacks/callbacks.py:1042: RuntimeWarning: Reduce LR on plateau conditioned on metric `dense_5_accuracy` which is not available. Available metrics are: dense_vowel_loss,dense_consonant_loss,lr,dense_vowel_accuracy,dense_consonant_accuracy,val_dense_consonant_accuracy,val_dense_vowel_loss,val_loss,dense_root_loss,dense_root_accuracy,val_dense_root_accuracy,val_dense_vowel_accuracy,loss,val_dense_consonant_loss,val_dense_root_loss\n",
      "  (self.monitor, ','.join(list(logs.keys()))), RuntimeWarning\n"
     ]
    },
    {
     "name": "stdout",
     "output_type": "stream",
     "text": [
      "549/549 [==============================] - 232s 422ms/step - loss: 4.2559 - dense_root_loss: 2.9740 - dense_vowel_loss: 0.7155 - dense_consonant_loss: 0.5665 - dense_root_accuracy: 0.2499 - dense_vowel_accuracy: 0.7649 - dense_consonant_accuracy: 0.8059 - val_loss: 2.7125 - val_dense_root_loss: 1.9771 - val_dense_vowel_loss: 0.3944 - val_dense_consonant_loss: 0.3405 - val_dense_root_accuracy: 0.4485 - val_dense_vowel_accuracy: 0.8762 - val_dense_consonant_accuracy: 0.8875\n",
      "Epoch 3/10\n",
      "549/549 [==============================] - 232s 422ms/step - loss: 3.1864 - dense_root_loss: 2.1203 - dense_vowel_loss: 0.6046 - dense_consonant_loss: 0.4615 - dense_root_accuracy: 0.4262 - dense_vowel_accuracy: 0.8036 - dense_consonant_accuracy: 0.8470 - val_loss: 2.1467 - val_dense_root_loss: 1.4926 - val_dense_vowel_loss: 0.3560 - val_dense_consonant_loss: 0.2977 - val_dense_root_accuracy: 0.5744 - val_dense_vowel_accuracy: 0.8883 - val_dense_consonant_accuracy: 0.9047\n",
      "Epoch 4/10\n",
      "549/549 [==============================] - 231s 422ms/step - loss: 2.7184 - dense_root_loss: 1.7689 - dense_vowel_loss: 0.5397 - dense_consonant_loss: 0.4098 - dense_root_accuracy: 0.5164 - dense_vowel_accuracy: 0.8263 - dense_consonant_accuracy: 0.8644 - val_loss: 1.7968 - val_dense_root_loss: 1.2376 - val_dense_vowel_loss: 0.2970 - val_dense_consonant_loss: 0.2618 - val_dense_root_accuracy: 0.6491 - val_dense_vowel_accuracy: 0.9103 - val_dense_consonant_accuracy: 0.9174\n",
      "Epoch 5/10\n",
      "549/549 [==============================] - 231s 422ms/step - loss: 2.4866 - dense_root_loss: 1.5956 - dense_vowel_loss: 0.5062 - dense_consonant_loss: 0.3848 - dense_root_accuracy: 0.5617 - dense_vowel_accuracy: 0.8366 - dense_consonant_accuracy: 0.8731 - val_loss: 1.6436 - val_dense_root_loss: 1.0938 - val_dense_vowel_loss: 0.3007 - val_dense_consonant_loss: 0.2485 - val_dense_root_accuracy: 0.6898 - val_dense_vowel_accuracy: 0.9115 - val_dense_consonant_accuracy: 0.9220\n",
      "Epoch 6/10\n",
      "549/549 [==============================] - 231s 421ms/step - loss: 2.3431 - dense_root_loss: 1.4837 - dense_vowel_loss: 0.4898 - dense_consonant_loss: 0.3696 - dense_root_accuracy: 0.5908 - dense_vowel_accuracy: 0.8428 - dense_consonant_accuracy: 0.8786 - val_loss: 1.5541 - val_dense_root_loss: 1.0547 - val_dense_vowel_loss: 0.2732 - val_dense_consonant_loss: 0.2259 - val_dense_root_accuracy: 0.7001 - val_dense_vowel_accuracy: 0.9188 - val_dense_consonant_accuracy: 0.9265\n",
      "Epoch 7/10\n",
      "549/549 [==============================] - 231s 421ms/step - loss: 2.2567 - dense_root_loss: 1.4196 - dense_vowel_loss: 0.4788 - dense_consonant_loss: 0.3583 - dense_root_accuracy: 0.6068 - dense_vowel_accuracy: 0.8468 - dense_consonant_accuracy: 0.8814 - val_loss: 1.4751 - val_dense_root_loss: 0.9768 - val_dense_vowel_loss: 0.2591 - val_dense_consonant_loss: 0.2386 - val_dense_root_accuracy: 0.7229 - val_dense_vowel_accuracy: 0.9210 - val_dense_consonant_accuracy: 0.9221\n",
      "Epoch 8/10\n",
      "549/549 [==============================] - 231s 421ms/step - loss: 2.2621 - dense_root_loss: 1.4128 - dense_vowel_loss: 0.4885 - dense_consonant_loss: 0.3608 - dense_root_accuracy: 0.6098 - dense_vowel_accuracy: 0.8437 - dense_consonant_accuracy: 0.8812 - val_loss: 1.4094 - val_dense_root_loss: 0.9469 - val_dense_vowel_loss: 0.2426 - val_dense_consonant_loss: 0.2194 - val_dense_root_accuracy: 0.7293 - val_dense_vowel_accuracy: 0.9290 - val_dense_consonant_accuracy: 0.9298\n",
      "Epoch 9/10\n",
      "549/549 [==============================] - 231s 421ms/step - loss: 2.2279 - dense_root_loss: 1.3865 - dense_vowel_loss: 0.4781 - dense_consonant_loss: 0.3633 - dense_root_accuracy: 0.6163 - dense_vowel_accuracy: 0.8471 - dense_consonant_accuracy: 0.8802 - val_loss: 1.4578 - val_dense_root_loss: 0.9723 - val_dense_vowel_loss: 0.2648 - val_dense_consonant_loss: 0.2203 - val_dense_root_accuracy: 0.7243 - val_dense_vowel_accuracy: 0.9207 - val_dense_consonant_accuracy: 0.9291\n",
      "Epoch 10/10\n",
      "549/549 [==============================] - 231s 421ms/step - loss: 2.1867 - dense_root_loss: 1.3653 - dense_vowel_loss: 0.4703 - dense_consonant_loss: 0.3511 - dense_root_accuracy: 0.6223 - dense_vowel_accuracy: 0.8491 - dense_consonant_accuracy: 0.8838 - val_loss: 1.4264 - val_dense_root_loss: 0.9542 - val_dense_vowel_loss: 0.2524 - val_dense_consonant_loss: 0.2195 - val_dense_root_accuracy: 0.7291 - val_dense_vowel_accuracy: 0.9237 - val_dense_consonant_accuracy: 0.9290\n"
     ]
    },
    {
     "ename": "TypeError",
     "evalue": "<keras.callbacks.callbacks.History object at 0x7f3fda99a2b0> is not JSON serializable",
     "output_type": "error",
     "traceback": [
      "\u001b[0;31m---------------------------------------------------------------------------\u001b[0m",
      "\u001b[0;31mTypeError\u001b[0m                                 Traceback (most recent call last)",
      "\u001b[0;32m<ipython-input-34-88976f45a59b>\u001b[0m in \u001b[0;36m<module>\u001b[0;34m\u001b[0m\n\u001b[1;32m     35\u001b[0m                     \u001b[0mos\u001b[0m\u001b[0;34m.\u001b[0m\u001b[0mmakedirs\u001b[0m\u001b[0;34m(\u001b[0m\u001b[0mparent_directory\u001b[0m\u001b[0;34m+\u001b[0m\u001b[0;34m\"/models\"\u001b[0m\u001b[0;34m)\u001b[0m\u001b[0;34m\u001b[0m\u001b[0m\n\u001b[1;32m     36\u001b[0m                 \u001b[0;32mwith\u001b[0m \u001b[0mopen\u001b[0m\u001b[0;34m(\u001b[0m\u001b[0mparent_directory\u001b[0m\u001b[0;34m+\u001b[0m\u001b[0;34m\"/models/model_\"\u001b[0m \u001b[0;34m+\u001b[0m \u001b[0mstr\u001b[0m\u001b[0;34m(\u001b[0m\u001b[0mcounter\u001b[0m\u001b[0;34m)\u001b[0m\u001b[0;34m+\u001b[0m\u001b[0;34m\".json\"\u001b[0m\u001b[0;34m,\u001b[0m \u001b[0;34m\"w\"\u001b[0m\u001b[0;34m)\u001b[0m \u001b[0;32mas\u001b[0m \u001b[0mfp\u001b[0m\u001b[0;34m:\u001b[0m\u001b[0;34m\u001b[0m\u001b[0m\n\u001b[0;32m---> 37\u001b[0;31m                     \u001b[0mjson\u001b[0m\u001b[0;34m.\u001b[0m\u001b[0mdump\u001b[0m\u001b[0;34m(\u001b[0m\u001b[0mhistory\u001b[0m\u001b[0;34m,\u001b[0m \u001b[0mfp\u001b[0m\u001b[0;34m,\u001b[0m \u001b[0msort_keys\u001b[0m \u001b[0;34m=\u001b[0m \u001b[0;32mTrue\u001b[0m\u001b[0;34m,\u001b[0m \u001b[0mindent\u001b[0m \u001b[0;34m=\u001b[0m \u001b[0;36m4\u001b[0m\u001b[0;34m)\u001b[0m\u001b[0;34m\u001b[0m\u001b[0m\n\u001b[0m\u001b[1;32m     38\u001b[0m                 \u001b[0mcounter\u001b[0m \u001b[0;34m+=\u001b[0m \u001b[0;36m1\u001b[0m\u001b[0;34m\u001b[0m\u001b[0m\n\u001b[1;32m     39\u001b[0m \u001b[0;32mwith\u001b[0m \u001b[0mopen\u001b[0m\u001b[0;34m(\u001b[0m\u001b[0mparent_directory\u001b[0m\u001b[0;34m+\u001b[0m\u001b[0;34m\"/models/histories.json\"\u001b[0m\u001b[0;34m,\u001b[0m \u001b[0;34m\"w\"\u001b[0m\u001b[0;34m)\u001b[0m \u001b[0;32mas\u001b[0m \u001b[0mfp\u001b[0m\u001b[0;34m:\u001b[0m\u001b[0;34m\u001b[0m\u001b[0m\n",
      "\u001b[0;32m/usr/lib/python3.5/json/__init__.py\u001b[0m in \u001b[0;36mdump\u001b[0;34m(obj, fp, skipkeys, ensure_ascii, check_circular, allow_nan, cls, indent, separators, default, sort_keys, **kw)\u001b[0m\n\u001b[1;32m    176\u001b[0m     \u001b[0;31m# could accelerate with writelines in some versions of Python, at\u001b[0m\u001b[0;34m\u001b[0m\u001b[0;34m\u001b[0m\u001b[0m\n\u001b[1;32m    177\u001b[0m     \u001b[0;31m# a debuggability cost\u001b[0m\u001b[0;34m\u001b[0m\u001b[0;34m\u001b[0m\u001b[0m\n\u001b[0;32m--> 178\u001b[0;31m     \u001b[0;32mfor\u001b[0m \u001b[0mchunk\u001b[0m \u001b[0;32min\u001b[0m \u001b[0miterable\u001b[0m\u001b[0;34m:\u001b[0m\u001b[0;34m\u001b[0m\u001b[0m\n\u001b[0m\u001b[1;32m    179\u001b[0m         \u001b[0mfp\u001b[0m\u001b[0;34m.\u001b[0m\u001b[0mwrite\u001b[0m\u001b[0;34m(\u001b[0m\u001b[0mchunk\u001b[0m\u001b[0;34m)\u001b[0m\u001b[0;34m\u001b[0m\u001b[0m\n\u001b[1;32m    180\u001b[0m \u001b[0;34m\u001b[0m\u001b[0m\n",
      "\u001b[0;32m/usr/lib/python3.5/json/encoder.py\u001b[0m in \u001b[0;36m_iterencode\u001b[0;34m(o, _current_indent_level)\u001b[0m\n\u001b[1;32m    434\u001b[0m                     \u001b[0;32mraise\u001b[0m \u001b[0mValueError\u001b[0m\u001b[0;34m(\u001b[0m\u001b[0;34m\"Circular reference detected\"\u001b[0m\u001b[0;34m)\u001b[0m\u001b[0;34m\u001b[0m\u001b[0m\n\u001b[1;32m    435\u001b[0m                 \u001b[0mmarkers\u001b[0m\u001b[0;34m[\u001b[0m\u001b[0mmarkerid\u001b[0m\u001b[0;34m]\u001b[0m \u001b[0;34m=\u001b[0m \u001b[0mo\u001b[0m\u001b[0;34m\u001b[0m\u001b[0m\n\u001b[0;32m--> 436\u001b[0;31m             \u001b[0mo\u001b[0m \u001b[0;34m=\u001b[0m \u001b[0m_default\u001b[0m\u001b[0;34m(\u001b[0m\u001b[0mo\u001b[0m\u001b[0;34m)\u001b[0m\u001b[0;34m\u001b[0m\u001b[0m\n\u001b[0m\u001b[1;32m    437\u001b[0m             \u001b[0;32myield\u001b[0m \u001b[0;32mfrom\u001b[0m \u001b[0m_iterencode\u001b[0m\u001b[0;34m(\u001b[0m\u001b[0mo\u001b[0m\u001b[0;34m,\u001b[0m \u001b[0m_current_indent_level\u001b[0m\u001b[0;34m)\u001b[0m\u001b[0;34m\u001b[0m\u001b[0m\n\u001b[1;32m    438\u001b[0m             \u001b[0;32mif\u001b[0m \u001b[0mmarkers\u001b[0m \u001b[0;32mis\u001b[0m \u001b[0;32mnot\u001b[0m \u001b[0;32mNone\u001b[0m\u001b[0;34m:\u001b[0m\u001b[0;34m\u001b[0m\u001b[0m\n",
      "\u001b[0;32m/usr/lib/python3.5/json/encoder.py\u001b[0m in \u001b[0;36mdefault\u001b[0;34m(self, o)\u001b[0m\n\u001b[1;32m    177\u001b[0m \u001b[0;34m\u001b[0m\u001b[0m\n\u001b[1;32m    178\u001b[0m         \"\"\"\n\u001b[0;32m--> 179\u001b[0;31m         \u001b[0;32mraise\u001b[0m \u001b[0mTypeError\u001b[0m\u001b[0;34m(\u001b[0m\u001b[0mrepr\u001b[0m\u001b[0;34m(\u001b[0m\u001b[0mo\u001b[0m\u001b[0;34m)\u001b[0m \u001b[0;34m+\u001b[0m \u001b[0;34m\" is not JSON serializable\"\u001b[0m\u001b[0;34m)\u001b[0m\u001b[0;34m\u001b[0m\u001b[0m\n\u001b[0m\u001b[1;32m    180\u001b[0m \u001b[0;34m\u001b[0m\u001b[0m\n\u001b[1;32m    181\u001b[0m     \u001b[0;32mdef\u001b[0m \u001b[0mencode\u001b[0m\u001b[0;34m(\u001b[0m\u001b[0mself\u001b[0m\u001b[0;34m,\u001b[0m \u001b[0mo\u001b[0m\u001b[0;34m)\u001b[0m\u001b[0;34m:\u001b[0m\u001b[0;34m\u001b[0m\u001b[0m\n",
      "\u001b[0;31mTypeError\u001b[0m: <keras.callbacks.callbacks.History object at 0x7f3fda99a2b0> is not JSON serializable"
     ]
    }
   ],
   "source": [
    "# TUNE THE MODEL\n",
    "histories = {}\n",
    "counter = 0 \n",
    "for activation in activations:\n",
    "    for dropout_prob in dropout_probs:\n",
    "        for optimizer in optimizers:\n",
    "            for lr in lr_schedulers:\n",
    "                # MAKE SURE YOU EDIT THIS OUT LATER BUT THIS IS JUST TO SKIP MODEL 0 CUZ WE ALREADY TRIED IT\n",
    "                if counter == 0:\n",
    "                    counter += 1\n",
    "                    continue\n",
    "                print(\"==========================================================================================\")\n",
    "                print(\"Training model_\"+str(counter) +\":\")\n",
    "                print(\"\\t Activation: \" + activation)\n",
    "                print(\"\\t Dropout Probability: \" + str(dropout_prob))\n",
    "                print(\"\\t Optimizer: \" + optimizer)\n",
    "                print(\"\\t LR Scheduler: \" + lr)\n",
    "                model = build_model(activation, dropout_prob)\n",
    "                model.compile(optimizer=optimizer, loss='categorical_crossentropy', metrics=['accuracy'])\n",
    "                if lr == \"exp\":\n",
    "                    callbacks=[lr_exp_root, lr_exp_vowel, lr_exp_consonant]\n",
    "                else:\n",
    "                    callbacks=[learning_rate_reduction_root, learning_rate_reduction_vowel, learning_rate_reduction_consonant]\n",
    "                history = model.fit_generator(\n",
    "                        datagen.flow(\n",
    "                            x_train, {'dense_root': y_train_root, 'dense_vowel': y_train_vowel, 'dense_consonant': y_train_consonant}, \n",
    "                            batch_size=batch_size),\n",
    "                        epochs = epochs, validation_data = (x_val, [y_val_root, y_val_vowel, y_val_consonant]), \n",
    "                        steps_per_epoch=x_train.shape[0] // batch_size, \n",
    "                        callbacks=callbacks\n",
    "                    )\n",
    "                histories[\"model_\" + str(counter)] = (activation, dropout_prob, optimizer, lr, history)\n",
    "                # save histories as text file\n",
    "                if not os.path.exists(parent_directory+\"/models\"):\n",
    "                    os.makedirs(parent_directory+\"/models\")\n",
    "                with open(parent_directory+\"/models/model_\" + str(counter)+\".json\", \"w\") as fp:\n",
    "                    json.dump(history.history, fp, sort_keys = True, indent = 4)\n",
    "                counter += 1\n",
    "with open(parent_directory+\"/models/histories.json\", \"w\") as fp:\n",
    "    json.dump(histories, fp, sort_keys = True, indent = 4)"
   ]
  },
  {
   "cell_type": "code",
   "execution_count": null,
   "metadata": {},
   "outputs": [],
   "source": [
    "del x_train\n",
    "del x_test\n",
    "del y_train_root\n",
    "del y_test_root\n",
    "del y_train_vowel\n",
    "del y_test_vowel\n",
    "del y_train_consonant\n",
    "del y_test_consonant\n",
    "gc.collect()"
   ]
  }
 ],
 "metadata": {
  "kernelspec": {
   "display_name": "Python 3",
   "language": "python",
   "name": "python3"
  },
  "language_info": {
   "codemirror_mode": {
    "name": "ipython",
    "version": 3
   },
   "file_extension": ".py",
   "mimetype": "text/x-python",
   "name": "python",
   "nbconvert_exporter": "python",
   "pygments_lexer": "ipython3",
   "version": "3.5.3"
  }
 },
 "nbformat": 4,
 "nbformat_minor": 4
}
